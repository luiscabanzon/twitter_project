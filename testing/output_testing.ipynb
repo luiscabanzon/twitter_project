{
 "metadata": {
  "name": "",
  "signature": "sha256:d9bb7f862577d95bb6b6680dd26dc3b18ccf7691445d84d4047477e28ee1757a"
 },
 "nbformat": 3,
 "nbformat_minor": 0,
 "worksheets": [
  {
   "cells": [
    {
     "cell_type": "code",
     "collapsed": false,
     "input": [
      "import tweepy\n",
      "import time\n",
      "import pandas as pd\n",
      "import re\n",
      "import collections\n",
      "import json\n",
      "from datetime import datetime\n",
      "import pickle\n",
      "\n",
      "consumer_key ='pX1VF2Mp5FicThnpyWmP7GyH3'\n",
      "consumer_secret = 'zuesUN6OPburvzMssJivbGNwgjfSj3vNCaJ4hbH9WrZlbwhweM'\n",
      "access_token = '440434796-7YLC6Tnpv8beLCjVhHXLxa9XLxC1aoYI4iP2XrNy'\n",
      "access_token_secret = '0VzybqOTxPoUQLeuAdmsdAmOtCCyDdPb8wIht12Vg2ukP'\n",
      "\n",
      "auth = tweepy.OAuthHandler(consumer_key, consumer_secret)\n",
      "auth.set_access_token(access_token, access_token_secret)\n",
      "\n",
      "api = tweepy.API(auth)"
     ],
     "language": "python",
     "metadata": {},
     "outputs": [],
     "prompt_number": 1
    },
    {
     "cell_type": "code",
     "collapsed": false,
     "input": [
      "def load_entry(entry):\n",
      "    #row = pd.DataFrame(columns= [\"created_at\", \"user\", \"favs\", \"rt\", \"lang\", \"text\", \"user_pic\"])\n",
      "    row = pd.Series()\n",
      "    row[\"created_at\"] = str(entry.created_at)\n",
      "    row[\"user\"] = entry.user.screen_name.encode(\"utf-8\")\n",
      "    row[\"favs\"] = entry.favorite_count\n",
      "    row[\"rt\"] = entry.retweet_count\n",
      "    row[\"lang\"] = entry.lang.encode(\"utf-8\")\n",
      "    row[\"time_zone\"] = get_time_zone(entry)\n",
      "    row[\"text\"] = entry.text.encode(\"utf-8\")\n",
      "    row[\"user_pic\"] = entry.user.profile_image_url.encode(\"utf-8\")\n",
      "    \n",
      "    return row\n",
      "\n",
      "def get_time_zone(entry):\n",
      "    if entry._json[\"user\"][\"time_zone\"] == None:\n",
      "        return \"N/A\"\n",
      "    else:\n",
      "        return entry._json[\"user\"][\"time_zone\"].encode(\"utf-8\")\n"
     ],
     "language": "python",
     "metadata": {},
     "outputs": [],
     "prompt_number": 8
    },
    {
     "cell_type": "code",
     "collapsed": false,
     "input": [
      "with open(\"/home/honu/projects/tweetpeek/db/raw_data/\" + \"2015-06-19_\" + \"#\u0634\u064a_\u062a\u0639\u0631\u0641\u0647_\u0639\u0646_\u0627\u0644\u0627\u0631\u062f\u0646\u064a\u064a\u0646\" + \".txt\", 'rb') as f:\n",
      "    data = pickle.load(f)"
     ],
     "language": "python",
     "metadata": {},
     "outputs": [],
     "prompt_number": 5
    },
    {
     "cell_type": "code",
     "collapsed": false,
     "input": [
      "len(data)"
     ],
     "language": "python",
     "metadata": {},
     "outputs": [
      {
       "metadata": {},
       "output_type": "pyout",
       "prompt_number": 32,
       "text": [
        "2509"
       ]
      }
     ],
     "prompt_number": 32
    },
    {
     "cell_type": "code",
     "collapsed": false,
     "input": [
      "df = pd.DataFrame(columns= [\"created_at\", \"user\", \"favs\", \"rt\", \"lang\", \"time_zone\", \"text\", \"user_pic\"])\n",
      "for entry in data:\n",
      "    df = df.append(load_entry(entry), ignore_index = True)"
     ],
     "language": "python",
     "metadata": {},
     "outputs": []
    },
    {
     "cell_type": "code",
     "collapsed": false,
     "input": [
      "today = str(datetime.today())[:10]\n",
      "data_text = \"\"\n",
      "\n",
      "for i in data:\n",
      "    data_text = ' '.join([data[i].text.lower() for i in xrange(len(data))]).encode('utf-8')\n",
      "\n",
      "hashtags = []\n",
      "mentions = []\n",
      "\n",
      "for i in data:\n",
      "    for j in i._json[\"entities\"][\"hashtags\"]:\n",
      "        hashtags.append(j[\"text\"].encode('utf-8'))\n",
      "    for j in i._json[\"entities\"][\"user_mentions\"]:\n",
      "        mentions.append(j[\"screen_name\"].encode('utf-8'))\n",
      "\n",
      "hashtags_frequency = collections.Counter(hashtags)\n",
      "mentions_frequency = collections.Counter(mentions)\n",
      "\n",
      "top_hashtags = hashtags_frequency.most_common(10)\n",
      "top_users = mentions_frequency.most_common(10)\n",
      "most_fav = df[df[\"favs\"] == df[\"favs\"].max()].head(1)\n",
      "most_rt = data[df[df[\"rt\"] == df[\"rt\"].max()].head(1).index[0]]\n",
      "time_zones = collections.Counter(df[\"time_zone\"]).most_common(25)"
     ],
     "language": "python",
     "metadata": {},
     "outputs": [],
     "prompt_number": 30
    },
    {
     "cell_type": "code",
     "collapsed": false,
     "input": [
      "output = {}\n",
      "output[\"len\"] = str(len(df))\n",
      "output[\"lang\"] = [[df[\"lang\"].value_counts().head().index[i], str(df[\"lang\"].value_counts().head().values[i])] for i in xrange(5)]\n",
      "output[\"time_zones\"] = [[entry[0], str(entry[1])] for entry in time_zones]\n",
      "output[\"hashtags\"] = [[top_hashtags[i][0], str(top_hashtags[i][1])] for i in xrange(10)]\n",
      "output[\"users\"] = [[top_users[i][0], str(top_users[i][1])] for i in xrange(10)]\n",
      "output[\"most_fav\"] = {\"user\": str(most_fav[\"user\"][most_fav.index[0]]), \"user_pic\": str(most_fav[\"user_pic\"][most_fav.index[0]]), \"text\": str(most_fav[\"text\"][most_fav.index[0]]), \"favs\": str(most_fav[\"favs\"][most_fav.index[0]]), \"rt\": str(most_fav[\"rt\"][most_fav.index[0]]), \"created_at\": str(most_fav[\"created_at\"][most_fav.index[0]])}\n",
      "if most_rt._json[\"retweeted\"]:\n",
      "    output[\"most_rt\"] = {\"user\": str(most_rt.user.screen_name.encode(\"utf-8\")), \"user_id\": str(most_rt.user.id),\"user_pic\": str(most_rt.user.profile_image_url.encode(\"utf-8\")), \"text\": most_rt.text.encode(\"utf-8\"), \"tweet_id\": str(most_rt.id), \"favs\": str(most_rt.favorite_count), \"rt\": str(most_rt.retweet_count), \"created_at\": str(most_rt.created_at)}\n",
      "else:\n",
      "    output[\"most_rt\"] = {\"user\": str(most_rt.user.screen_name.encode(\"utf-8\")), \"user_id\": str(most_rt.user.id),\"user_pic\": str(most_rt.user.profile_image_url.encode(\"utf-8\")), \"text\": most_rt.text.encode(\"utf-8\"), \"tweet_id\": str(most_rt.id), \"favs\": str(most_rt.favorite_count), \"rt\": str(most_rt.retweet_count), \"created_at\": str(most_rt.created_at)} \n",
      "output[\"text\"] = data_text\n",
      "json_output = json.dumps(output)"
     ],
     "language": "python",
     "metadata": {},
     "outputs": [],
     "prompt_number": 33
    },
    {
     "cell_type": "code",
     "collapsed": false,
     "input": [
      "data[df[df[\"favs\"] == df[\"favs\"].max()].head(1).index[0]].text\n",
      "#for i in xrange(200):\n",
      "#    print data[i].text"
     ],
     "language": "python",
     "metadata": {},
     "outputs": [
      {
       "metadata": {},
       "output_type": "pyout",
       "prompt_number": 43,
       "text": [
        "u'Computa encuesta Durex #3PalabrasAntesDelSexo'"
       ]
      }
     ],
     "prompt_number": 43
    },
    {
     "cell_type": "code",
     "collapsed": false,
     "input": [
      "with open(\"/home/honu/projects/tweetpeek/db/trends/2015-06-19_trends.txt\", 'rb') as f:\n",
      "    trends = pickle.load(f)\n",
      "print trends"
     ],
     "language": "python",
     "metadata": {},
     "outputs": [
      {
       "output_type": "stream",
       "stream": "stdout",
       "text": [
        "['M\\xe3\\x82\\xb9\\xe3\\x83\\x86', '#nationalkissingday', '#LoveMeRight7thWin', '#FueraFelipeVI', '#\\xd8\\xb4\\xd9\\x8a_\\xd8\\xaa\\xd8\\xb9\\xd8\\xb1\\xd9\\x81\\xd9\\x87_\\xd8\\xb9\\xd9\\x86_\\xd8\\xa7\\xd9\\x84\\xd8\\xa7\\xd8\\xb1\\xd8\\xaf\\xd9\\x86\\xd9\\x8a\\xd9\\x8a\\xd9\\x86', '#HepimizPYDliyiz', '\\xe3\\x81\\xa7\\xe3\\x82\\x93\\xe3\\x81\\xb1\\xe7\\xb5\\x84', 'Alexandros', '\\xe3\\x83\\x89\\xe3\\x83\\xad\\xe3\\x82\\xb9', 'Jon Stewart']\n"
       ]
      }
     ],
     "prompt_number": 4
    },
    {
     "cell_type": "code",
     "collapsed": false,
     "input": [
      "for i in trends:\n",
      "    print i"
     ],
     "language": "python",
     "metadata": {},
     "outputs": [
      {
       "output_type": "stream",
       "stream": "stdout",
       "text": [
        "#CharlestonShooting\n",
        "#NoTeEnvioUnWhatsAppPorque\n",
        "#\u062e\u0648\u0627\u0637\u063111\n",
        "#MTVBattleFifthHarmony\n",
        "#AskAmell\n",
        "Confederate\n",
        "Paul McCartney\n",
        "F\u00e1bio Martins\n",
        "Sel\u00e7uk \u015eahin\n",
        "Nikki Haley\n"
       ]
      }
     ],
     "prompt_number": 4
    },
    {
     "cell_type": "code",
     "collapsed": false,
     "input": [
      "df[\"lang\"].value_counts()"
     ],
     "language": "python",
     "metadata": {},
     "outputs": [
      {
       "metadata": {},
       "output_type": "pyout",
       "prompt_number": 25,
       "text": [
        "es     2271\n",
        "pt      140\n",
        "en      118\n",
        "it       39\n",
        "und      38\n",
        "in       31\n",
        "fr       14\n",
        "ht        9\n",
        "tl        9\n",
        "sk        8\n",
        "sv        4\n",
        "sl        3\n",
        "no        3\n",
        "tr        3\n",
        "lt        2\n",
        "hu        2\n",
        "et        2\n",
        "ja        1\n",
        "is        1\n",
        "nl        1\n",
        "de        1\n",
        "dtype: int64"
       ]
      }
     ],
     "prompt_number": 25
    },
    {
     "cell_type": "code",
     "collapsed": false,
     "input": [
      "most_rt = data[df[df[\"rt\"] == df[\"rt\"].max()].head(1).index[0]]"
     ],
     "language": "python",
     "metadata": {},
     "outputs": [],
     "prompt_number": 10
    },
    {
     "cell_type": "code",
     "collapsed": false,
     "input": [
      "pprint.pprint(most_rt._json)"
     ],
     "language": "python",
     "metadata": {},
     "outputs": [
      {
       "output_type": "stream",
       "stream": "stdout",
       "text": [
        "{u'contributors': None,\n",
        " u'coordinates': None,\n",
        " u'created_at': u'Fri Jun 19 15:51:39 +0000 2015',\n",
        " u'entities': {u'hashtags': [{u'indices': [10, 23],\n",
        "                              u'text': u'\\u0633\\u0627\\u0639\\u0647_\\u0627\\u0633\\u062a\\u062c\\u0627\\u0628\\u0647'},\n",
        "                             {u'indices': [25, 47],\n",
        "                              u'text': u'\\u0634\\u064a_\\u062a\\u0639\\u0631\\u0641\\u0647_\\u0639\\u0646_\\u0627\\u0644\\u0627\\u0631\\u062f\\u0646\\u064a\\u064a\\u0646'},\n",
        "                             {u'indices': [50, 62],\n",
        "                              u'text': u'\\u0645\\u0643\\u0647_\\u062a\\u062c\\u0645\\u0639\\u0646\\u06272'}],\n",
        "               u'media': [{u'display_url': u'pic.twitter.com/xXltGiv2rS',\n",
        "                           u'expanded_url': u'http://twitter.com/vip_8090/status/611924310345682944/photo/1',\n",
        "                           u'id': 611924196059299840,\n",
        "                           u'id_str': u'611924196059299840',\n",
        "                           u'indices': [63, 85],\n",
        "                           u'media_url': u'http://pbs.twimg.com/media/CH390G-UwAAAthA.jpg',\n",
        "                           u'media_url_https': u'https://pbs.twimg.com/media/CH390G-UwAAAthA.jpg',\n",
        "                           u'sizes': {u'large': {u'h': 640,\n",
        "                                                 u'resize': u'fit',\n",
        "                                                 u'w': 640},\n",
        "                                      u'medium': {u'h': 600,\n",
        "                                                  u'resize': u'fit',\n",
        "                                                  u'w': 600},\n",
        "                                      u'small': {u'h': 340,\n",
        "                                                 u'resize': u'fit',\n",
        "                                                 u'w': 340},\n",
        "                                      u'thumb': {u'h': 150,\n",
        "                                                 u'resize': u'crop',\n",
        "                                                 u'w': 150}},\n",
        "                           u'type': u'photo',\n",
        "                           u'url': u'http://t.co/xXltGiv2rS'}],\n",
        "               u'symbols': [],\n",
        "               u'urls': [],\n",
        "               u'user_mentions': []},\n",
        " u'favorite_count': 0,\n",
        " u'favorited': False,\n",
        " u'geo': None,\n",
        " u'id': 611924310345682944,\n",
        " u'id_str': u'611924310345682944',\n",
        " u'in_reply_to_screen_name': None,\n",
        " u'in_reply_to_status_id': None,\n",
        " u'in_reply_to_status_id_str': None,\n",
        " u'in_reply_to_user_id': None,\n",
        " u'in_reply_to_user_id_str': None,\n",
        " u'is_quote_status': False,\n",
        " u'lang': u'ar',\n",
        " u'metadata': {u'iso_language_code': u'ar', u'result_type': u'recent'},\n",
        " u'place': None,\n",
        " u'possibly_sensitive': False,\n",
        " u'retweet_count': 1003,\n",
        " u'retweeted': False,\n",
        " u'source': u'<a href=\"http://twitter.com/download/iphone\" rel=\"nofollow\">Twitter for iPhone</a>',\n",
        " u'text': u'\\u0627\\u0631\\u062e\\u0635 \\u0633\\u0639\\u0631 \\n#\\u0633\\u0627\\u0639\\u0647_\\u0627\\u0633\\u062a\\u062c\\u0627\\u0628\\u0647 \\n#\\u0634\\u064a_\\u062a\\u0639\\u0631\\u0641\\u0647_\\u0639\\u0646_\\u0627\\u0644\\u0627\\u0631\\u062f\\u0646\\u064a\\u064a\\u0646 \\n #\\u0645\\u0643\\u0647_\\u062a\\u062c\\u0645\\u0639\\u0646\\u06272 http://t.co/xXltGiv2rS',\n",
        " u'truncated': False,\n",
        " u'user': {u'contributors_enabled': False,\n",
        "           u'created_at': u'Mon Feb 02 21:44:23 +0000 2015',\n",
        "           u'default_profile': True,\n",
        "           u'default_profile_image': False,\n",
        "           u'description': u'\\u062d\\u0633\\u0627\\u0628 \\u0625\\u0639\\u0644\\u0627\\u0646\\u064a \\u063a\\u064a\\u0631\\u0631 \\u0631\\u0633\\u0645\\u064a\\n\\u0644\\u0644\\u062a\\u0648\\u0627\\u0635\\u0644 \\u0648\\u0627\\u062a\\u0633 \\u0627\\u0628 :: 0532547414',\n",
        "           u'entities': {u'description': {u'urls': []}},\n",
        "           u'favourites_count': 0,\n",
        "           u'follow_request_sent': False,\n",
        "           u'followers_count': 10643,\n",
        "           u'following': False,\n",
        "           u'friends_count': 524,\n",
        "           u'geo_enabled': False,\n",
        "           u'id': 3008432390,\n",
        "           u'id_str': u'3008432390',\n",
        "           u'is_translation_enabled': False,\n",
        "           u'is_translator': False,\n",
        "           u'lang': u'ar',\n",
        "           u'listed_count': 0,\n",
        "           u'location': u'',\n",
        "           u'name': u'\\u0645\\u064c\\u062d\\u0628 \\u0627\\u0644\\u0641\\u064a\\u0651\\u0635\\u0644',\n",
        "           u'notifications': False,\n",
        "           u'profile_background_color': u'C0DEED',\n",
        "           u'profile_background_image_url': u'http://abs.twimg.com/images/themes/theme1/bg.png',\n",
        "           u'profile_background_image_url_https': u'https://abs.twimg.com/images/themes/theme1/bg.png',\n",
        "           u'profile_background_tile': False,\n",
        "           u'profile_image_url': u'http://pbs.twimg.com/profile_images/604378087539646464/auuZo8mR_normal.jpg',\n",
        "           u'profile_image_url_https': u'https://pbs.twimg.com/profile_images/604378087539646464/auuZo8mR_normal.jpg',\n",
        "           u'profile_link_color': u'0084B4',\n",
        "           u'profile_sidebar_border_color': u'C0DEED',\n",
        "           u'profile_sidebar_fill_color': u'DDEEF6',\n",
        "           u'profile_text_color': u'333333',\n",
        "           u'profile_use_background_image': True,\n",
        "           u'protected': False,\n",
        "           u'screen_name': u'vip_8090',\n",
        "           u'statuses_count': 192,\n",
        "           u'time_zone': u'Bucharest',\n",
        "           u'url': None,\n",
        "           u'utc_offset': 10800,\n",
        "           u'verified': False}}\n"
       ]
      }
     ],
     "prompt_number": 19
    },
    {
     "cell_type": "code",
     "collapsed": false,
     "input": [
      "output[\"most_rt\"]"
     ],
     "language": "python",
     "metadata": {},
     "outputs": [
      {
       "metadata": {},
       "output_type": "pyout",
       "prompt_number": 34,
       "text": [
        "{'rt': '1003', 'tweet_id': '611924310345682944', 'user_id': '3008432390', 'user': 'vip_8090', 'text': '\\xd8\\xa7\\xd8\\xb1\\xd8\\xae\\xd8\\xb5 \\xd8\\xb3\\xd8\\xb9\\xd8\\xb1 \\n#\\xd8\\xb3\\xd8\\xa7\\xd8\\xb9\\xd9\\x87_\\xd8\\xa7\\xd8\\xb3\\xd8\\xaa\\xd8\\xac\\xd8\\xa7\\xd8\\xa8\\xd9\\x87 \\n#\\xd8\\xb4\\xd9\\x8a_\\xd8\\xaa\\xd8\\xb9\\xd8\\xb1\\xd9\\x81\\xd9\\x87_\\xd8\\xb9\\xd9\\x86_\\xd8\\xa7\\xd9\\x84\\xd8\\xa7\\xd8\\xb1\\xd8\\xaf\\xd9\\x86\\xd9\\x8a\\xd9\\x8a\\xd9\\x86 \\n #\\xd9\\x85\\xd9\\x83\\xd9\\x87_\\xd8\\xaa\\xd8\\xac\\xd9\\x85\\xd8\\xb9\\xd9\\x86\\xd8\\xa72 http://t.co/xXltGiv2rS', 'user_pic': 'http://pbs.twimg.com/profile_images/604378087539646464/auuZo8mR_normal.jpg', 'favs': '0', 'created_at': '2015-06-19 15:51:39'}"
       ]
      }
     ],
     "prompt_number": 34
    }
   ],
   "metadata": {}
  }
 ]
}