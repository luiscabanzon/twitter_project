{
 "metadata": {
  "name": "",
  "signature": "sha256:2d99a4e8be98cfe486f695c61b137da50fe11d175080889f86e617294caff8a7"
 },
 "nbformat": 3,
 "nbformat_minor": 0,
 "worksheets": [
  {
   "cells": [
    {
     "cell_type": "markdown",
     "metadata": {},
     "source": [
      "##1. Load Packages"
     ]
    },
    {
     "cell_type": "code",
     "collapsed": false,
     "input": [
      "import tweepy\n",
      "import time\n",
      "import pandas as pd\n",
      "import re\n",
      "import collections\n",
      "import json\n",
      "from datetime import datetime\n",
      "import pickle\n",
      "\n",
      "consumer_key ='pX1VF2Mp5FicThnpyWmP7GyH3'\n",
      "consumer_secret = 'zuesUN6OPburvzMssJivbGNwgjfSj3vNCaJ4hbH9WrZlbwhweM'\n",
      "access_token = '440434796-7YLC6Tnpv8beLCjVhHXLxa9XLxC1aoYI4iP2XrNy'\n",
      "access_token_secret = '0VzybqOTxPoUQLeuAdmsdAmOtCCyDdPb8wIht12Vg2ukP'\n",
      "\n",
      "auth = tweepy.OAuthHandler(consumer_key, consumer_secret)\n",
      "auth.set_access_token(access_token, access_token_secret)\n",
      "\n",
      "api = tweepy.API(auth)"
     ],
     "language": "python",
     "metadata": {},
     "outputs": [],
     "prompt_number": 4
    },
    {
     "cell_type": "markdown",
     "metadata": {},
     "source": [
      "## Get Trending Topics"
     ]
    },
    {
     "cell_type": "code",
     "collapsed": false,
     "input": [
      "trends = api.trends_place(1)"
     ],
     "language": "python",
     "metadata": {},
     "outputs": [],
     "prompt_number": 2
    },
    {
     "cell_type": "code",
     "collapsed": false,
     "input": [
      "trends_list = []\n",
      "today = str(datetime.today())[:10]\n",
      "for i in trends[0][\"trends\"]:\n",
      "    trend =  str(i[\"name\"].encode(\"utf-8\"))\n",
      "    trends_list.append(trend)\n",
      "print trends_list\n",
      "with open(\"/home/honu/projects/tweetpeek/db/trends/\" + today + \"_trends.txt\", 'wb') as f:\n",
      "    pickle.dump(trends_list, f)"
     ],
     "language": "python",
     "metadata": {},
     "outputs": [
      {
       "output_type": "stream",
       "stream": "stdout",
       "text": [
        "['Lebron', '#3PalabrasAntesDelSexo', 'S\\xc3\\xbcleyman Demirel', '#FixtureReleaseDay', 'Vidal', '#Bac2015', 'Boxing Day', '#\\xd8\\xb4\\xd8\\xae\\xd8\\xb5_\\xd9\\x85\\xd8\\xb4\\xd9\\x87\\xd9\\x88\\xd8\\xb1_\\xd9\\x82\\xd8\\xa7\\xd8\\xa8\\xd9\\x84\\xd8\\xaa\\xd9\\x87_\\xd8\\xb5\\xd8\\xaf\\xd9\\x81\\xd9\\x87', '#maturita2015', 'Senegal']\n"
       ]
      }
     ],
     "prompt_number": 5
    },
    {
     "cell_type": "code",
     "collapsed": false,
     "input": [
      "for i in trends_list:\n",
      "    print i"
     ],
     "language": "python",
     "metadata": {},
     "outputs": [
      {
       "output_type": "stream",
       "stream": "stdout",
       "text": [
        "#BerkinElvan\n",
        "#FelizMartes\n",
        "#ThreeWordsSheWantsToHear\n",
        "#MyCampaignIn3Words\n",
        "#XFactor\n",
        "Shenmue 3\n",
        "\u30ea\u30e1\u30a4\u30af\n",
        "\ud0a4\ub124\uc2dc\uc2a4\n",
        "B\u00fclent Uygun\n",
        "\u308b\u308d\u5263\n"
       ]
      }
     ],
     "prompt_number": 111
    },
    {
     "cell_type": "code",
     "collapsed": false,
     "input": [
      "with open(\"/home/honu/projects/tweetpeek/db/trends/\" + today + \"_trends.txt\", 'rb') as f:\n",
      "    trends_list = pickle.load(f)\n",
      "    print trends_list"
     ],
     "language": "python",
     "metadata": {},
     "outputs": [
      {
       "output_type": "stream",
       "stream": "stdout",
       "text": [
        "['#BerkinElvan', '#FelizMartes', '#ThreeWordsSheWantsToHear', '#MyCampaignIn3Words', '#XFactor', 'Shenmue 3', '\\xe3\\x83\\xaa\\xe3\\x83\\xa1\\xe3\\x82\\xa4\\xe3\\x82\\xaf', '\\xed\\x82\\xa4\\xeb\\x84\\xa4\\xec\\x8b\\x9c\\xec\\x8a\\xa4', 'B\\xc3\\xbclent Uygun', '\\xe3\\x82\\x8b\\xe3\\x82\\x8d\\xe5\\x89\\xa3']\n"
       ]
      }
     ],
     "prompt_number": 30
    },
    {
     "cell_type": "markdown",
     "metadata": {},
     "source": [
      "##Load testing file"
     ]
    },
    {
     "cell_type": "code",
     "collapsed": false,
     "input": [
      "import pickle\n",
      "#TO WRITE\n",
      "#with open(\"fallout4.txt\", 'wb') as f:\n",
      "#    pickle.dump(data, f)\n",
      "#TO READ\n",
      "with open(\"fallout4.txt\", 'rb') as f:\n",
      "    data = pickle.load(f)"
     ],
     "language": "python",
     "metadata": {},
     "outputs": [],
     "prompt_number": 31
    },
    {
     "cell_type": "markdown",
     "metadata": {},
     "source": [
      "##2. Load Tweets"
     ]
    },
    {
     "cell_type": "code",
     "collapsed": false,
     "input": [
      "trend = tweepy.Cursor(api.search, q='fallout4', since='2015-05-01', until='2015-06-03').items()\n",
      "print \"ready\""
     ],
     "language": "python",
     "metadata": {},
     "outputs": [
      {
       "output_type": "stream",
       "stream": "stdout",
       "text": [
        "ready\n"
       ]
      }
     ],
     "prompt_number": 22
    },
    {
     "cell_type": "code",
     "collapsed": false,
     "input": [
      "data = []"
     ],
     "language": "python",
     "metadata": {},
     "outputs": [],
     "prompt_number": 4
    },
    {
     "cell_type": "code",
     "collapsed": false,
     "input": [
      "for i in trend:\n",
      "    data.append(i)"
     ],
     "language": "python",
     "metadata": {},
     "outputs": [
      {
       "ename": "NameError",
       "evalue": "name 'trend' is not defined",
       "output_type": "pyerr",
       "traceback": [
        "\u001b[1;31m---------------------------------------------------------------------------\u001b[0m\n\u001b[1;31mNameError\u001b[0m                                 Traceback (most recent call last)",
        "\u001b[1;32m<ipython-input-5-beca370d7c2a>\u001b[0m in \u001b[0;36m<module>\u001b[1;34m()\u001b[0m\n\u001b[1;32m----> 1\u001b[1;33m \u001b[1;32mfor\u001b[0m \u001b[0mi\u001b[0m \u001b[1;32min\u001b[0m \u001b[0mtrend\u001b[0m\u001b[1;33m[\u001b[0m\u001b[1;36m0\u001b[0m\u001b[1;33m:\u001b[0m\u001b[1;36m100\u001b[0m\u001b[1;33m]\u001b[0m\u001b[1;33m:\u001b[0m\u001b[1;33m\u001b[0m\u001b[0m\n\u001b[0m\u001b[0;32m      2\u001b[0m     \u001b[0mdata\u001b[0m\u001b[1;33m.\u001b[0m\u001b[0mappend\u001b[0m\u001b[1;33m(\u001b[0m\u001b[0mi\u001b[0m\u001b[1;33m)\u001b[0m\u001b[1;33m\u001b[0m\u001b[0m\n",
        "\u001b[1;31mNameError\u001b[0m: name 'trend' is not defined"
       ]
      }
     ],
     "prompt_number": 5
    },
    {
     "cell_type": "code",
     "collapsed": false,
     "input": [
      "len(data)"
     ],
     "language": "python",
     "metadata": {},
     "outputs": [
      {
       "metadata": {},
       "output_type": "pyout",
       "prompt_number": 32,
       "text": [
        "3450"
       ]
      }
     ],
     "prompt_number": 32
    },
    {
     "cell_type": "code",
     "collapsed": false,
     "input": [
      "data[545].lang"
     ],
     "language": "python",
     "metadata": {},
     "outputs": [
      {
       "metadata": {},
       "output_type": "pyout",
       "prompt_number": 151,
       "text": [
        "u'en'"
       ]
      }
     ],
     "prompt_number": 151
    },
    {
     "cell_type": "markdown",
     "metadata": {},
     "source": [
      "##3. Get #hashtags and @references "
     ]
    },
    {
     "cell_type": "code",
     "collapsed": false,
     "input": [
      "data_text = ' '.join([data[i].text.lower() for i in xrange(len(data))]).encode('utf-8')"
     ],
     "language": "python",
     "metadata": {},
     "outputs": [],
     "prompt_number": 34
    },
    {
     "cell_type": "code",
     "collapsed": false,
     "input": [
      "#hashtags = re.findall(r'\\b#\\w+', data_text)\n",
      "#mentions = re.findall(r'\\b@\\w+', data_text) \n",
      "#hashtags = re.findall(r'#\\w*', data_text)\n",
      "#mentions = re.findall(r'@\\w*', data_text)\n",
      "hashtags = []\n",
      "mentions = []\n",
      "for i in data:\n",
      "    for j in i._json[\"entities\"][\"hashtags\"]:\n",
      "        test_hashtags.append(j[\"text\"].encode('utf-8'))\n",
      "    for j in i._json[\"entities\"][\"user_mentions\"]:\n",
      "        test_mentions.append(j[\"screen_name\"].encode('utf-8'))"
     ],
     "language": "python",
     "metadata": {},
     "outputs": [],
     "prompt_number": 35
    },
    {
     "cell_type": "code",
     "collapsed": false,
     "input": [
      "hashtags_frequency = collections.Counter(hashtags)\n",
      "mentions_frequency = collections.Counter(mentions)"
     ],
     "language": "python",
     "metadata": {},
     "outputs": [],
     "prompt_number": 36
    },
    {
     "cell_type": "markdown",
     "metadata": {},
     "source": [
      "##4. Build a dataframe"
     ]
    },
    {
     "cell_type": "code",
     "collapsed": false,
     "input": [
      "def load_entry(entry):\n",
      "    #row = pd.DataFrame(columns= [\"created_at\", \"user\", \"favs\", \"rt\", \"lang\", \"text\", \"user_pic\"])\n",
      "    row = pd.Series()\n",
      "    row[\"created_at\"] = str(entry.created_at)\n",
      "    row[\"user\"] = entry.user.screen_name.encode(\"utf-8\")\n",
      "    row[\"favs\"] = entry.favorite_count\n",
      "    row[\"rt\"] = entry.retweet_count\n",
      "    row[\"lang\"] = entry.lang.encode(\"utf-8\")\n",
      "    row[\"time_zone\"] = get_time_zone(entry)\n",
      "    row[\"text\"] = entry.text.encode(\"utf-8\")\n",
      "    row[\"user_pic\"] = entry.user.profile_image_url.encode(\"utf-8\")\n",
      "    \n",
      "    return row\n",
      "\n",
      "def get_time_zone(entry):\n",
      "    if entry._json[\"user\"][\"time_zone\"] == None:\n",
      "        return \"N/A\"\n",
      "    else:\n",
      "        return entry._json[\"user\"][\"time_zone\"].encode(\"utf-8\")"
     ],
     "language": "python",
     "metadata": {},
     "outputs": [],
     "prompt_number": 12
    },
    {
     "cell_type": "code",
     "collapsed": false,
     "input": [
      "df = pd.DataFrame(columns= [\"created_at\", \"user\", \"favs\", \"rt\", \"lang\", \"time_zone\", \"text\", \"user_pic\"])\n",
      "for entry in data[1:100]:\n",
      "    df = df.append(load_entry(entry), ignore_index = True)"
     ],
     "language": "python",
     "metadata": {},
     "outputs": [],
     "prompt_number": 13
    },
    {
     "cell_type": "markdown",
     "metadata": {},
     "source": [
      "##5. Preparing the JSON output"
     ]
    },
    {
     "cell_type": "code",
     "collapsed": false,
     "input": [
      "output = {}"
     ],
     "language": "python",
     "metadata": {},
     "outputs": [],
     "prompt_number": 14
    },
    {
     "cell_type": "code",
     "collapsed": false,
     "input": [
      "data[896].text"
     ],
     "language": "python",
     "metadata": {},
     "outputs": [
      {
       "metadata": {},
       "output_type": "pyout",
       "prompt_number": 15,
       "text": [
        "u\"War. War never changes. Well, except the numeral. And technology. And... fuck it, I'm excited! #Fallout4 http://t.co/FfBOtZtbbi\""
       ]
      }
     ],
     "prompt_number": 15
    },
    {
     "cell_type": "code",
     "collapsed": false,
     "input": [
      "top_hashtags = hashtags_frequency.most_common(10)\n",
      "top_users = mentions_frequency.most_common(10)\n",
      "most_fav = df[df[\"favs\"] == df[\"favs\"].max()].head(1)\n",
      "#most_rt = df[df[\"favs\"] == df[\"favs\"].max()].head(1)\n",
      "most_rt = data[df[df[\"rt\"] == df[\"rt\"].max()].head(1).index[0]].retweeted_status\n",
      "time_zones = collections.Counter(df[\"time_zone\"]).most_common(25)\n",
      "\n",
      "output[\"len\"] = str(len(df))\n",
      "output[\"lang\"] = [[df[\"lang\"].value_counts().head().index[i], str(df[\"lang\"].value_counts().head().values[i])] for i in xrange(5)]\n",
      "output[\"time_zones\"] = [[entry[0], str(entry[1])] for entry in time_zones]\n",
      "output[\"hashtags\"] = [[top_hashtags[i][0], str(top_hashtags[i][1])] for i in xrange(10)]\n",
      "output[\"users\"] = [[top_users[i][0], str(top_users[i][1])] for i in xrange(10)]\n",
      "output[\"most_fav\"] = {\"user\": str(most_fav[\"user\"][most_fav.index[0]]), \"user_pic\": str(most_fav[\"user_pic\"][most_fav.index[0]]), \"text\": str(most_fav[\"text\"][most_fav.index[0]]), \"favs\": str(most_fav[\"favs\"][most_fav.index[0]]), \"rt\": str(most_fav[\"rt\"][most_fav.index[0]]), \"created_at\": str(most_fav[\"created_at\"][most_fav.index[0]])}\n",
      "output[\"most_rt\"] = {\"user\": str(most_rt.user.screen_name.encode(\"utf-8\")), \"user_id\": str(most_rt.user.id),\"user_pic\": str(most_rt.user.profile_image_url.encode(\"utf-8\")), \"text\": most_rt.text.encode(\"utf-8\"), \"tweet_id\": str(most_rt.id), \"favs\": str(most_rt.favorite_count), \"rt\": str(most_rt.retweet_count), \"created_at\": str(most_rt.created_at)}\n",
      "output[\"text\"] = data_text\n",
      "\n",
      "json_output = json.dumps(output)"
     ],
     "language": "python",
     "metadata": {},
     "outputs": [],
     "prompt_number": 16
    },
    {
     "cell_type": "code",
     "collapsed": false,
     "input": [
      "type(json_output)"
     ],
     "language": "python",
     "metadata": {},
     "outputs": [
      {
       "metadata": {},
       "output_type": "pyout",
       "prompt_number": 18,
       "text": [
        "str"
       ]
      }
     ],
     "prompt_number": 18
    },
    {
     "cell_type": "markdown",
     "metadata": {},
     "source": [
      "## Data Exploratory Analysis (Tests)"
     ]
    },
    {
     "cell_type": "code",
     "collapsed": false,
     "input": [
      "output[\"time_zones\"]"
     ],
     "language": "python",
     "metadata": {},
     "outputs": [
      {
       "metadata": {},
       "output_type": "pyout",
       "prompt_number": 134,
       "text": [
        "[['N/A', '1249'],\n",
        " ['Eastern Time (US & Canada)', '368'],\n",
        " ['Central Time (US & Canada)', '232'],\n",
        " ['Pacific Time (US & Canada)', '219'],\n",
        " ['London', '217'],\n",
        " ['Tokyo', '216'],\n",
        " ['Amsterdam', '105'],\n",
        " ['Irkutsk', '79'],\n",
        " ['Atlantic Time (Canada)', '78'],\n",
        " ['Arizona', '55'],\n",
        " ['Hawaii', '39'],\n",
        " ['Athens', '39'],\n",
        " ['Mountain Time (US & Canada)', '35'],\n",
        " ['Dublin', '34'],\n",
        " ['Casablanca', '33'],\n",
        " ['Seoul', '33'],\n",
        " ['Madrid', '31'],\n",
        " ['Berlin', '25'],\n",
        " ['Quito', '23'],\n",
        " ['Brisbane', '14'],\n",
        " ['Osaka', '14'],\n",
        " ['Caracas', '14'],\n",
        " ['Buenos Aires', '14'],\n",
        " ['Edinburgh', '13'],\n",
        " ['Brasilia', '13']]"
       ]
      }
     ],
     "prompt_number": 134
    },
    {
     "cell_type": "code",
     "collapsed": false,
     "input": [
      "#print df[\"lang\"].unique()\n",
      "#print df[\"lang\"].value_counts().head().index[1]\n",
      "#output\n",
      "df[df[\"favs\"] == df[\"favs\"].max()].head(1)[\"created_at\"]\n"
     ],
     "language": "python",
     "metadata": {},
     "outputs": [
      {
       "metadata": {},
       "output_type": "pyout",
       "prompt_number": 95,
       "text": [
        "896    2015-06-02 22:58:33\n",
        "Name: created_at, dtype: object"
       ]
      }
     ],
     "prompt_number": 95
    },
    {
     "cell_type": "code",
     "collapsed": false,
     "input": [
      "print hashtags_frequency.most_common(10)\n",
      "print mentions_frequency.most_common(10)"
     ],
     "language": "python",
     "metadata": {},
     "outputs": [
      {
       "output_type": "stream",
       "stream": "stdout",
       "text": [
        "[('#fallout4', 2899), ('#pleasestandby', 541), ('#bethesda', 113), ('#fallout', 103), ('#fallout4confirmed', 102), ('#hype', 29), ('#e32015', 27), ('#', 25), ('#blatter', 23), ('#hypetrain', 20)]\n",
        "[('@bethesdastudios', 204), ('@falloutlsd', 109), ('@chrisavellone', 94), ('@bethblog', 74), ('@emmylol1', 69), ('@americo76', 64), ('@fo4news', 58), ('@4allout', 48), ('@sam3214', 39), ('@nerdistdotcom', 38)]\n"
       ]
      }
     ],
     "prompt_number": 194
    },
    {
     "cell_type": "code",
     "collapsed": false,
     "input": [
      "df[\"text\"][9]"
     ],
     "language": "python",
     "metadata": {},
     "outputs": [
      {
       "metadata": {},
       "output_type": "pyout",
       "prompt_number": 189,
       "text": [
        "'#PleaseStandBy #Fallout4 14 hours !! !! !! !!'"
       ]
      }
     ],
     "prompt_number": 189
    },
    {
     "cell_type": "code",
     "collapsed": false,
     "input": [
      "print hashtags.count(\"#pleasestandby\")\n",
      "print hashtags.count(\"#fallout4\")\n",
      "print hashtags.count(\"#fallout\")\n",
      "print hashtags.count(\"#bethesda\")\n",
      "print hashtags.count(\"#e3\")\n"
     ],
     "language": "python",
     "metadata": {},
     "outputs": [
      {
       "output_type": "stream",
       "stream": "stdout",
       "text": [
        "541\n",
        "2899\n",
        "103\n",
        "113\n",
        "19\n"
       ]
      }
     ],
     "prompt_number": 6
    },
    {
     "cell_type": "code",
     "collapsed": false,
     "input": [
      "#print df[(df[\"favs\"] == df[\"favs\"].max())]\n",
      "len(df[(df[\"rt\"] == df[\"rt\"].max())])\n",
      "df[(df[\"rt\"] == df[\"rt\"].max())].head(2)"
     ],
     "language": "python",
     "metadata": {},
     "outputs": [
      {
       "html": [
        "<div style=\"max-height:1000px;max-width:1500px;overflow:auto;\">\n",
        "<table border=\"1\" class=\"dataframe\">\n",
        "  <thead>\n",
        "    <tr style=\"text-align: right;\">\n",
        "      <th></th>\n",
        "      <th>created_at</th>\n",
        "      <th>user</th>\n",
        "      <th>favs</th>\n",
        "      <th>rt</th>\n",
        "      <th>lang</th>\n",
        "      <th>time_zone</th>\n",
        "      <th>text</th>\n",
        "      <th>user_pic</th>\n",
        "    </tr>\n",
        "  </thead>\n",
        "  <tbody>\n",
        "    <tr>\n",
        "      <th>3 </th>\n",
        "      <td> 2015-06-02 23:59:49</td>\n",
        "      <td>  CobaltK9</td>\n",
        "      <td> 0</td>\n",
        "      <td> 278</td>\n",
        "      <td> en</td>\n",
        "      <td>                      Perth</td>\n",
        "      <td> RT @americo76: FALLOUT 4! FALLOUT 4! FALLOUT 4...</td>\n",
        "      <td> http://pbs.twimg.com/profile_images/5618826692...</td>\n",
        "    </tr>\n",
        "    <tr>\n",
        "      <th>58</th>\n",
        "      <td> 2015-06-02 23:54:40</td>\n",
        "      <td> EpicWin64</td>\n",
        "      <td> 0</td>\n",
        "      <td> 278</td>\n",
        "      <td> en</td>\n",
        "      <td> Central Time (US &amp; Canada)</td>\n",
        "      <td> RT @americo76: FALLOUT 4! FALLOUT 4! FALLOUT 4...</td>\n",
        "      <td> http://pbs.twimg.com/profile_images/3788000008...</td>\n",
        "    </tr>\n",
        "  </tbody>\n",
        "</table>\n",
        "</div>"
       ],
       "metadata": {},
       "output_type": "pyout",
       "prompt_number": 190,
       "text": [
        "             created_at       user  favs   rt lang  \\\n",
        "3   2015-06-02 23:59:49   CobaltK9     0  278   en   \n",
        "58  2015-06-02 23:54:40  EpicWin64     0  278   en   \n",
        "\n",
        "                     time_zone  \\\n",
        "3                        Perth   \n",
        "58  Central Time (US & Canada)   \n",
        "\n",
        "                                                 text  \\\n",
        "3   RT @americo76: FALLOUT 4! FALLOUT 4! FALLOUT 4...   \n",
        "58  RT @americo76: FALLOUT 4! FALLOUT 4! FALLOUT 4...   \n",
        "\n",
        "                                             user_pic  \n",
        "3   http://pbs.twimg.com/profile_images/5618826692...  \n",
        "58  http://pbs.twimg.com/profile_images/3788000008...  "
       ]
      }
     ],
     "prompt_number": 190
    },
    {
     "cell_type": "code",
     "collapsed": false,
     "input": [
      "print data[9].entities[\"hashtags\"]"
     ],
     "language": "python",
     "metadata": {},
     "outputs": [
      {
       "output_type": "stream",
       "stream": "stdout",
       "text": [
        "[{u'indices': [0, 14], u'text': u'PleaseStandBy'}, {u'indices': [15, 24], u'text': u'Fallout4'}]\n"
       ]
      }
     ],
     "prompt_number": 180
    },
    {
     "cell_type": "code",
     "collapsed": false,
     "input": [
      "%matplotlib inline \n",
      "import matplotlib.pyplot as plt\n",
      "from wordcloud import WordCloud\n",
      "\n",
      "wordcloud = WordCloud(font_path=\"/usr/share/fonts/OTF/SyrCOMUrhoy.otf\").generate(data_text)\n",
      "#wordcloud\n",
      "#font_path=\"/usr/share/fonts/OTF/SyrCOMUrhoy.otf\"\n",
      "plt.imshow(wordcloud)\n",
      "plt.axis(\"off\")\n",
      "plt.show()"
     ],
     "language": "python",
     "metadata": {},
     "outputs": [
      {
       "metadata": {},
       "output_type": "display_data",
       "png": "[encoded data removed]",
       "text": [
        "<matplotlib.figure.Figure at 0x7f71ceed9a10>"
       ]
      }
     ],
     "prompt_number": 252
    },
    {
     "cell_type": "code",
     "collapsed": false,
     "input": [
      "#from datetime import datetime\n",
      "#datetime.strptime(str(data[0].created_at), \"%Y-%m-%d %H:%M:%S\")"
     ],
     "language": "python",
     "metadata": {},
     "outputs": [
      {
       "metadata": {},
       "output_type": "pyout",
       "prompt_number": 205,
       "text": [
        "datetime.datetime(2015, 6, 2, 23, 59, 54)"
       ]
      }
     ],
     "prompt_number": 205
    },
    {
     "cell_type": "code",
     "collapsed": false,
     "input": [
      "#str(data[0].created_at)\n"
     ],
     "language": "python",
     "metadata": {},
     "outputs": [
      {
       "metadata": {},
       "output_type": "pyout",
       "prompt_number": 213,
       "text": [
        "str"
       ]
      }
     ],
     "prompt_number": 213
    },
    {
     "cell_type": "code",
     "collapsed": false,
     "input": [
      "locations = []\n",
      "for i in xrange(len(data)):\n",
      "    locations.append(get_time_zone(data[i]))"
     ],
     "language": "python",
     "metadata": {},
     "outputs": [],
     "prompt_number": 184
    },
    {
     "cell_type": "code",
     "collapsed": false,
     "input": [
      "import sys\n",
      "print sys.getsizeof(data_text)\n",
      "print sys.getsizeof(data_text.split(\" \"))\n",
      "print sys.getsizeof(str(data_text.split(\" \")))"
     ],
     "language": "python",
     "metadata": {},
     "outputs": [
      {
       "output_type": "stream",
       "stream": "stdout",
       "text": [
        "324293\n",
        "304584\n",
        "546301"
       ]
      },
      {
       "output_type": "stream",
       "stream": "stdout",
       "text": [
        "\n"
       ]
      }
     ],
     "prompt_number": 164
    },
    {
     "cell_type": "code",
     "collapsed": false,
     "input": [
      "data[3]._json[\"text\"]"
     ],
     "language": "python",
     "metadata": {},
     "outputs": [
      {
       "metadata": {},
       "output_type": "pyout",
       "prompt_number": 288,
       "text": [
        "u'RT @americo76: FALLOUT 4! FALLOUT 4! FALLOUT 4! FALLOUT 4! FALLOUT 4! FALLOUT 4! FALLOUT 4! FALLOUT 4! FALLOUT 4! #Fallout4 http://t.co/YUo\\u2026'"
       ]
      }
     ],
     "prompt_number": 288
    },
    {
     "cell_type": "code",
     "collapsed": false,
     "input": [
      "#data[896].entities[\"user_mentions\"][0][\"screen_name\"].encode(\"utf-8\")\n",
      "#print data[3].user.screen_name.encode(\"utf-8\") + \"/status/\" + str(data[3]._json[\"id\"])\n",
      "#df.ix[3,:].created_at\n",
      "print data[most_fav.index[0]].entities[\"user_mentions\"][0][\"screen_name\"] + \" /// \" +  data[most_fav.index[0]].user.screen_name\n",
      "print df[\"user_pic\"][3]\n",
      "print data[3].entities[\"profile_image_url_http\"]\n",
      "most_fav"
     ],
     "language": "python",
     "metadata": {},
     "outputs": [
      {
       "output_type": "stream",
       "stream": "stdout",
       "text": [
        "americo76 /// CobaltK9\n",
        "http://pbs.twimg.com/profile_images/561882669244366849/RH4tzny1_normal.png\n"
       ]
      },
      {
       "ename": "KeyError",
       "evalue": "'profile_image_url_http'",
       "output_type": "pyerr",
       "traceback": [
        "\u001b[1;31m---------------------------------------------------------------------------\u001b[0m\n\u001b[1;31mKeyError\u001b[0m                                  Traceback (most recent call last)",
        "\u001b[1;32m<ipython-input-283-8c0e0c7a0f4d>\u001b[0m in \u001b[0;36m<module>\u001b[1;34m()\u001b[0m\n\u001b[0;32m      4\u001b[0m \u001b[1;32mprint\u001b[0m \u001b[0mdata\u001b[0m\u001b[1;33m[\u001b[0m\u001b[0mmost_fav\u001b[0m\u001b[1;33m.\u001b[0m\u001b[0mindex\u001b[0m\u001b[1;33m[\u001b[0m\u001b[1;36m0\u001b[0m\u001b[1;33m]\u001b[0m\u001b[1;33m]\u001b[0m\u001b[1;33m.\u001b[0m\u001b[0mentities\u001b[0m\u001b[1;33m[\u001b[0m\u001b[1;34m\"user_mentions\"\u001b[0m\u001b[1;33m]\u001b[0m\u001b[1;33m[\u001b[0m\u001b[1;36m0\u001b[0m\u001b[1;33m]\u001b[0m\u001b[1;33m[\u001b[0m\u001b[1;34m\"screen_name\"\u001b[0m\u001b[1;33m]\u001b[0m \u001b[1;33m+\u001b[0m \u001b[1;34m\" /// \"\u001b[0m \u001b[1;33m+\u001b[0m  \u001b[0mdata\u001b[0m\u001b[1;33m[\u001b[0m\u001b[0mmost_fav\u001b[0m\u001b[1;33m.\u001b[0m\u001b[0mindex\u001b[0m\u001b[1;33m[\u001b[0m\u001b[1;36m0\u001b[0m\u001b[1;33m]\u001b[0m\u001b[1;33m]\u001b[0m\u001b[1;33m.\u001b[0m\u001b[0muser\u001b[0m\u001b[1;33m.\u001b[0m\u001b[0mscreen_name\u001b[0m\u001b[1;33m\u001b[0m\u001b[0m\n\u001b[0;32m      5\u001b[0m \u001b[1;32mprint\u001b[0m \u001b[0mdf\u001b[0m\u001b[1;33m[\u001b[0m\u001b[1;34m\"user_pic\"\u001b[0m\u001b[1;33m]\u001b[0m\u001b[1;33m[\u001b[0m\u001b[1;36m3\u001b[0m\u001b[1;33m]\u001b[0m\u001b[1;33m\u001b[0m\u001b[0m\n\u001b[1;32m----> 6\u001b[1;33m \u001b[1;32mprint\u001b[0m \u001b[0mdata\u001b[0m\u001b[1;33m[\u001b[0m\u001b[1;36m3\u001b[0m\u001b[1;33m]\u001b[0m\u001b[1;33m.\u001b[0m\u001b[0mentities\u001b[0m\u001b[1;33m[\u001b[0m\u001b[1;34m\"profile_image_url_http\"\u001b[0m\u001b[1;33m]\u001b[0m\u001b[1;33m\u001b[0m\u001b[0m\n\u001b[0m\u001b[0;32m      7\u001b[0m \u001b[0mmost_fav\u001b[0m\u001b[1;33m\u001b[0m\u001b[0m\n",
        "\u001b[1;31mKeyError\u001b[0m: 'profile_image_url_http'"
       ]
      }
     ],
     "prompt_number": 283
    },
    {
     "cell_type": "code",
     "collapsed": false,
     "input": [
      "data[3].retweeted_status.created_at"
     ],
     "language": "python",
     "metadata": {},
     "outputs": [
      {
       "metadata": {},
       "output_type": "pyout",
       "prompt_number": 311,
       "text": [
        "datetime.datetime(2015, 6, 2, 15, 22, 58)"
       ]
      }
     ],
     "prompt_number": 311
    },
    {
     "cell_type": "code",
     "collapsed": false,
     "input": [
      "print data[3].retweeted_status.user.profile_image_url.encode(\"utf-8\")\n",
      "print data[3].retweeted_status.user.screen_name.encode(\"utf-8\")\n",
      "print \"http://twitter.com/\" + data[3].retweeted_status.user.id_str + \"/status/\" + data[3].retweeted_status.id_str\n",
      "print data[3].retweeted_status.id\n",
      "print data[3].retweeted_status.text.encode(\"utf-8\")\n",
      "print data[3].retweeted_status.favorite_count\n",
      "print data[3].retweeted_status.retweet_count\n",
      "print str(data[3].retweeted_status.created_at)"
     ],
     "language": "python",
     "metadata": {},
     "outputs": [
      {
       "output_type": "stream",
       "stream": "stdout",
       "text": [
        "http://pbs.twimg.com/profile_images/605700980303228928/gy2RTZON_normal.jpg\n",
        "americo76\n",
        "http://twitter.com/37868094/status/605756497356713986\n",
        "605756497356713986\n",
        "FALLOUT 4! FALLOUT 4! FALLOUT 4! FALLOUT 4! FALLOUT 4! FALLOUT 4! FALLOUT 4! FALLOUT 4! FALLOUT 4! #Fallout4 http://t.co/YUotbQfbYD\n",
        "266\n",
        "278\n",
        "2015-06-02 15:22:58\n"
       ]
      }
     ],
     "prompt_number": 320
    },
    {
     "cell_type": "code",
     "collapsed": false,
     "input": [
      "data[0].user.screen_name.encode(\"utf-8\")"
     ],
     "language": "python",
     "metadata": {},
     "outputs": [
      {
       "metadata": {},
       "output_type": "pyout",
       "prompt_number": 261,
       "text": [
        "'thesamz9'"
       ]
      }
     ],
     "prompt_number": 261
    },
    {
     "cell_type": "code",
     "collapsed": false,
     "input": [
      "from datetime import datetime, timedelta\n",
      "tomorrow = datetime.today() + timedelta(days=1)\n",
      "str(tomorrow)[:10]"
     ],
     "language": "python",
     "metadata": {},
     "outputs": [
      {
       "metadata": {},
       "output_type": "pyout",
       "prompt_number": 20,
       "text": [
        "'2015-06-13'"
       ]
      }
     ],
     "prompt_number": 20
    }
   ],
   "metadata": {}
  }
 ]
}